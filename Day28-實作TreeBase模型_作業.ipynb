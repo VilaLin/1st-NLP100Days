{
 "cells": [
  {
   "cell_type": "markdown",
   "metadata": {},
   "source": [
    "### 作業目的: 使用樹型模型進行文章分類\n",
    "\n",
    "本次作業主利用[Amazon Review data中的All Beauty](https://nijianmo.github.io/amazon/index.html)來進行review評價分類(文章分類)\n",
    "\n",
    "資料中將review分為1,2,3,4,5分，而在這份作業，我們將評論改分為差評價、普通評價、優良評價(1,2-->1差評、3-->2普通評價、4,5-->3優良評價)"
   ]
  },
  {
   "cell_type": "markdown",
   "metadata": {},
   "source": [
    "### 載入套件"
   ]
  },
  {
   "cell_type": "code",
   "execution_count": 9,
   "metadata": {},
   "outputs": [],
   "source": [
    "import json\n",
    "import re\n",
    "import gzip\n",
    "from sklearn.tree import DecisionTreeClassifier\n",
    "from sklearn.ensemble import AdaBoostClassifier, RandomForestClassifier\n",
    "from sklearn.metrics import classification_report, confusion_matrix\n",
    "from sklearn.model_selection import train_test_split\n",
    "from sklearn.feature_extraction.text import CountVectorizer, TfidfVectorizer, TfidfTransformer"
   ]
  },
  {
   "cell_type": "markdown",
   "metadata": {},
   "source": [
    "### 資料前處理\n",
    "文本資料較為龐大，這裡我們取前10000筆資料來進行作業練習"
   ]
  },
  {
   "cell_type": "code",
   "execution_count": 10,
   "metadata": {},
   "outputs": [],
   "source": [
    "def parse(path):\n",
    "  g = gzip.open(path, 'r')\n",
    "  for l in g:\n",
    "    yield json.loads(l)"
   ]
  },
  {
   "cell_type": "code",
   "execution_count": 11,
   "metadata": {},
   "outputs": [
    {
     "data": {
      "text/plain": [
       "{'overall': 5.0,\n",
       " 'verified': True,\n",
       " 'reviewTime': '09 1, 2016',\n",
       " 'reviewerID': 'A3CIUOJXQ5VDQ2',\n",
       " 'asin': 'B0000530HU',\n",
       " 'style': {'Size:': ' 7.0 oz', 'Flavor:': ' Classic Ice Blue'},\n",
       " 'reviewerName': 'Shelly F',\n",
       " 'reviewText': 'As advertised. Reasonably priced',\n",
       " 'summary': 'Five Stars',\n",
       " 'unixReviewTime': 1472688000}"
      ]
     },
     "execution_count": 11,
     "metadata": {},
     "output_type": "execute_result"
    }
   ],
   "source": [
    "#load json data\n",
    "all_reviews = [review for review in parse(\"All_Beauty_5.json.gz\")]\n",
    "all_reviews[0]"
   ]
  },
  {
   "cell_type": "code",
   "execution_count": 27,
   "metadata": {},
   "outputs": [
    {
     "name": "stdout",
     "output_type": "stream",
     "text": [
      "5269\n",
      "5264\n",
      "5264\n"
     ]
    }
   ],
   "source": [
    "#parse label(overall) and corpus(reviewText)\n",
    "corpus = []\n",
    "labels = []\n",
    "\n",
    "for reviews in all_reviews:\n",
    "    if \"reviewText\" in reviews and \"overall\" in reviews:\n",
    "        corpus.append(reviews[\"reviewText\"])\n",
    "        labels.append(reviews[\"overall\"])\n",
    "        \n",
    "#transform labels: 1,2 --> 1 and 3 --> 2 and 4,5 --> 3\n",
    "transformed_lables = []\n",
    "for label in labels:\n",
    "    if label in (1,2):\n",
    "        transformed_lables.append(1)\n",
    "    elif label == 3:\n",
    "        transformed_lables.append(2)\n",
    "    elif label in (4,5):\n",
    "        transformed_lables.append(3)\n",
    "\n",
    "print(len(all_reviews))\n",
    "print(len(labels))\n",
    "print(len(transformed_lables))"
   ]
  },
  {
   "cell_type": "code",
   "execution_count": 28,
   "metadata": {},
   "outputs": [],
   "source": [
    "#preprocessing data\n",
    "#remove email address, punctuations, and change line symbol(\\n)\n",
    "\n",
    "pattern = r\"\\S*@\\S*|\\\\n|[^a-zA-Z0-9 ]\"\n",
    "\n",
    "for i, review in enumerate(corpus):\n",
    "    fil_review = [w for w in re.sub(pattern, \" \", review).split(\" \") if w != \"\"]\n",
    "    corpus[i] = \" \".join(fil_review)"
   ]
  },
  {
   "cell_type": "code",
   "execution_count": 30,
   "metadata": {},
   "outputs": [
    {
     "data": {
      "text/plain": [
       "(4211, 1053, 4211, 1053)"
      ]
     },
     "execution_count": 30,
     "metadata": {},
     "output_type": "execute_result"
    }
   ],
   "source": [
    "#split corpus and label into train and test\n",
    "x_train, x_test, y_train, y_test = train_test_split(corpus, labels, test_size=0.2, random_state=2, shuffle=True)\n",
    "\n",
    "len(x_train), len(x_test), len(y_train), len(y_test)"
   ]
  },
  {
   "cell_type": "code",
   "execution_count": 32,
   "metadata": {},
   "outputs": [],
   "source": [
    "#change corpus into vector\n",
    "#you can use tfidf or BoW here\n",
    "\n",
    "tfidf_vec = TfidfVectorizer()\n",
    "tfidf_vec.fit(x_train)\n",
    "\n",
    "#transform training and testing corpus into vector form\n",
    "x_train = tfidf_vec.transform(x_train).toarray()\n",
    "x_test = tfidf_vec.transform(x_test).toarray()"
   ]
  },
  {
   "cell_type": "markdown",
   "metadata": {},
   "source": [
    "### 訓練與預測"
   ]
  },
  {
   "cell_type": "code",
   "execution_count": 38,
   "metadata": {},
   "outputs": [
    {
     "data": {
      "text/plain": [
       "DecisionTreeClassifier(class_weight=None, criterion='gini', max_depth=6,\n",
       "            max_features=None, max_leaf_nodes=None,\n",
       "            min_impurity_decrease=0.0, min_impurity_split=None,\n",
       "            min_samples_leaf=1, min_samples_split=2,\n",
       "            min_weight_fraction_leaf=0.0, presort=False, random_state=None,\n",
       "            splitter='best')"
      ]
     },
     "execution_count": 38,
     "metadata": {},
     "output_type": "execute_result"
    }
   ],
   "source": [
    "#build classification model (decision tree, random forest, or adaboost)\n",
    "#start training\n",
    "\n",
    "tree = DecisionTreeClassifier(max_depth=6, min_samples_split=2)\n",
    "tree.fit(x_train, y_train)"
   ]
  },
  {
   "cell_type": "code",
   "execution_count": 42,
   "metadata": {},
   "outputs": [
    {
     "data": {
      "text/plain": [
       "array([5., 5., 4., ..., 5., 5., 5.])"
      ]
     },
     "execution_count": 42,
     "metadata": {},
     "output_type": "execute_result"
    }
   ],
   "source": [
    "#start inference\n",
    "y_pred = tree.predict(x_test)\n",
    "y_pred"
   ]
  },
  {
   "cell_type": "code",
   "execution_count": 45,
   "metadata": {},
   "outputs": [
    {
     "data": {
      "text/plain": [
       "0.9012345679012346"
      ]
     },
     "execution_count": 45,
     "metadata": {},
     "output_type": "execute_result"
    }
   ],
   "source": [
    "#calculate accuracy\n",
    "tree.score(x_test, y_test)"
   ]
  },
  {
   "cell_type": "code",
   "execution_count": 46,
   "metadata": {},
   "outputs": [
    {
     "name": "stdout",
     "output_type": "stream",
     "text": [
      "              precision    recall  f1-score   support\n",
      "\n",
      "         1.0       1.00      0.42      0.59        19\n",
      "         2.0       0.75      0.17      0.27        18\n",
      "         3.0       0.83      0.20      0.32        25\n",
      "         4.0       0.69      0.16      0.27        67\n",
      "         5.0       0.90      1.00      0.95       924\n",
      "\n",
      "   micro avg       0.90      0.90      0.90      1053\n",
      "   macro avg       0.84      0.39      0.48      1053\n",
      "weighted avg       0.89      0.90      0.87      1053\n",
      "\n",
      "[[  8   0   1   0  10]\n",
      " [  0   3   0   0  15]\n",
      " [  0   1   5   3  16]\n",
      " [  0   0   0  11  56]\n",
      " [  0   0   0   2 922]]\n"
     ]
    }
   ],
   "source": [
    "#calculate confusion matrix, precision, recall, and f1-score\n",
    "print(classification_report(y_test, y_pred))\n",
    "print(confusion_matrix(y_test, y_pred))"
   ]
  },
  {
   "cell_type": "markdown",
   "metadata": {},
   "source": [
    "由上述資訊可以發現, 模型在好評的準確度高(precision, recall都高), 而在差評的部分表現較不理想, 在普通評價的部分大部分跟差評搞混,\n",
    "同學可以試著學習到的各種方法來提升模型的表現"
   ]
  },
  {
   "cell_type": "code",
   "execution_count": null,
   "metadata": {},
   "outputs": [],
   "source": []
  }
 ],
 "metadata": {
  "kernelspec": {
   "display_name": "Python 3",
   "language": "python",
   "name": "python3"
  },
  "language_info": {
   "codemirror_mode": {
    "name": "ipython",
    "version": 3
   },
   "file_extension": ".py",
   "mimetype": "text/x-python",
   "name": "python",
   "nbconvert_exporter": "python",
   "pygments_lexer": "ipython3",
   "version": "3.7.3"
  }
 },
 "nbformat": 4,
 "nbformat_minor": 2
}
